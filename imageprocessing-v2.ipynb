{
 "cells": [
  {
   "cell_type": "markdown",
   "metadata": {},
   "source": [
    "#### Data Augmentation here to create more photos to train model"
   ]
  },
  {
   "cell_type": "code",
   "execution_count": 1,
   "metadata": {},
   "outputs": [],
   "source": [
    "# Image Processing\n",
    "from PIL import Image\n",
    "import numpy as np\n",
    "from random import choice\n",
    "import os"
   ]
  },
  {
   "cell_type": "code",
   "execution_count": 2,
   "metadata": {},
   "outputs": [],
   "source": [
    "def rescale(image, pixel_h = 128, pixel_w = 128):\n",
    "    \"\"\"\n",
    "    rescales images\n",
    "    param: image source\n",
    "    return: rescaled image\n",
    "    \"\"\"\n",
    "    return image.resize((pixel_h, pixel_w))\n",
    "    \n",
    "\n",
    "ROTATIONS = [90, 180, 270]\n",
    "def random_rotation(image):\n",
    "    \"\"\"\n",
    "    randomly rotates the image while preserving the label\n",
    "    param: image source\n",
    "    return: rotated image (will not be the same as the original)\n",
    "    \"\"\"\n",
    "    return image.rotate(choice(ROTATIONS))\n",
    "\n",
    "def _horizontal_flip(image):\n",
    "    \"\"\"\n",
    "    flips image horizontally\n",
    "    param: image source\n",
    "    return: horizontal flipped image\n",
    "    \"\"\"\n",
    "    return image.transpose(Image.FLIP_LEFT_RIGHT)\n",
    "\n",
    "def _vertical_flip(image):\n",
    "    \"\"\"\n",
    "    flips image vertically\n",
    "    param: image source\n",
    "    return: vertical flipped image\n",
    "    \"\"\"\n",
    "    return image.transpose(Image.FLIP_TOP_BOTTOM)\n",
    "\n",
    "CHOICE = [True, False]\n",
    "def flipper(image):\n",
    "    \"\"\"\n",
    "    randomly flips image\n",
    "    param: image source\n",
    "    return: flipped (or not) image\n",
    "    \"\"\"\n",
    "    flip_h = choice(CHOICE)\n",
    "    print(flip_h)\n",
    "    flip_v = choice(CHOICE)\n",
    "    print(flip_v)\n",
    "    if flip_h:\n",
    "        image = _horizontal_flip(image)\n",
    "    if flip_v:\n",
    "        image = _vertical_flip(image)\n",
    "    return image\n",
    "\n",
    "def cropping(image, left, top, right, bottom):\n",
    "    \"\"\"\n",
    "    crops image\n",
    "    param: image source\n",
    "    return: cropped image\n",
    "    \"\"\"\n",
    "    return image.crop((left, top, right, bottom))"
   ]
  },
  {
   "cell_type": "code",
   "execution_count": 3,
   "metadata": {},
   "outputs": [],
   "source": [
    "src_dir = r\"C:\\Users\\Darryl See\\Desktop\\ConvoNN\\Gender Classification\\Training\"\n",
    "image_h = []"
   ]
  },
  {
   "cell_type": "markdown",
   "metadata": {},
   "source": [
    "### Horizontal Flipping"
   ]
  },
  {
   "cell_type": "code",
   "execution_count": 4,
   "metadata": {},
   "outputs": [],
   "source": [
    "# Load raw images\n",
    "for f in os.listdir(src_dir):\n",
    "    for subf in os.listdir(os.path.join(src_dir + \"\\\\\" + f)):\n",
    "        # Load image\n",
    "        img = Image.open(os.path.join(src_dir + \"\\\\\" + f + \"\\\\\" + subf))\n",
    "        img_rescaled = rescale(img)\n",
    "        \n",
    "        # h_flip\n",
    "        img_h = _horizontal_flip(img_rescaled)\n",
    "        \n",
    "        # Convert image to np array\n",
    "        img_array = np.asarray(img_h)\n",
    "        \n",
    "        # Normalize image\n",
    "        img_normalized = img_array/255.0\n",
    "        \n",
    "        # Append to lists\n",
    "        image_h.append(img_normalized)\n",
    "        \n",
    "image_h = np.asarray(image_h)\n",
    "image_h = image_h.astype('float16')"
   ]
  },
  {
   "cell_type": "code",
   "execution_count": 5,
   "metadata": {},
   "outputs": [],
   "source": [
    "np.save(\"h_images.npy\", image_h)"
   ]
  },
  {
   "cell_type": "markdown",
   "metadata": {},
   "source": [
    "### Vertical Flipping"
   ]
  },
  {
   "cell_type": "code",
   "execution_count": 6,
   "metadata": {},
   "outputs": [],
   "source": [
    "image_v = []\n",
    "# Load raw images\n",
    "for f in os.listdir(src_dir):\n",
    "    for subf in os.listdir(os.path.join(src_dir + \"\\\\\" + f)):\n",
    "        # Load image\n",
    "        img = Image.open(os.path.join(src_dir + \"\\\\\" + f + \"\\\\\" + subf))\n",
    "        img_rescaled = rescale(img)\n",
    "        \n",
    "        # h_flip\n",
    "        img_v = _vertical_flip(img_rescaled)\n",
    "        \n",
    "        # Convert image to np array\n",
    "        img_array = np.asarray(img_v)\n",
    "        \n",
    "        # Normalize image\n",
    "        img_normalized = img_array/255.0\n",
    "        \n",
    "        # Append to lists\n",
    "        image_v.append(img_normalized)\n",
    "\n",
    "image_v = np.asarray(image_v)\n",
    "image_v = image_v.astype('float16')"
   ]
  },
  {
   "cell_type": "code",
   "execution_count": 7,
   "metadata": {},
   "outputs": [],
   "source": [
    "np.save(\"v_images.npy\", image_v)"
   ]
  },
  {
   "cell_type": "markdown",
   "metadata": {},
   "source": [
    "### Random Rotation"
   ]
  },
  {
   "cell_type": "code",
   "execution_count": 8,
   "metadata": {},
   "outputs": [],
   "source": [
    "image_r = []\n",
    "# Load raw images\n",
    "for f in os.listdir(src_dir):\n",
    "    for subf in os.listdir(os.path.join(src_dir + \"\\\\\" + f)):\n",
    "        # Load image\n",
    "        img = Image.open(os.path.join(src_dir + \"\\\\\" + f + \"\\\\\" + subf))\n",
    "        img_rescaled = rescale(img)\n",
    "        \n",
    "        # h_flip\n",
    "        img_r = random_rotation(img_rescaled)\n",
    "        \n",
    "        # Convert image to np array\n",
    "        img_array = np.asarray(img_r)\n",
    "        \n",
    "        # Normalize image\n",
    "        img_normalized = img_array/255.0\n",
    "        \n",
    "        # Append to lists\n",
    "        image_r.append(img_normalized)\n",
    "\n",
    "image_r = np.asarray(image_r)\n",
    "image_r = image_r.astype('float16')"
   ]
  },
  {
   "cell_type": "code",
   "execution_count": 9,
   "metadata": {},
   "outputs": [],
   "source": [
    "np.save(\"r_images.npy\", image_r)"
   ]
  }
 ],
 "metadata": {
  "kernelspec": {
   "display_name": "Python 3",
   "language": "python",
   "name": "python3"
  },
  "language_info": {
   "codemirror_mode": {
    "name": "ipython",
    "version": 3
   },
   "file_extension": ".py",
   "mimetype": "text/x-python",
   "name": "python",
   "nbconvert_exporter": "python",
   "pygments_lexer": "ipython3",
   "version": "3.8.3"
  }
 },
 "nbformat": 4,
 "nbformat_minor": 4
}
