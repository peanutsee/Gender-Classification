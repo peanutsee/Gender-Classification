{
 "cells": [
  {
   "cell_type": "code",
   "execution_count": 1,
   "metadata": {},
   "outputs": [],
   "source": [
    "# Image Processing\n",
    "from PIL import Image\n",
    "import numpy as np\n",
    "from random import choice\n",
    "import os"
   ]
  },
  {
   "cell_type": "markdown",
   "metadata": {},
   "source": [
    "### Pillow Image Processing Functions"
   ]
  },
  {
   "cell_type": "code",
   "execution_count": 2,
   "metadata": {},
   "outputs": [],
   "source": [
    "def rescale(image, pixel_h = 128, pixel_w = 128):\n",
    "    \"\"\"\n",
    "    rescales images\n",
    "    param: image source\n",
    "    return: rescaled image\n",
    "    \"\"\"\n",
    "    return image.resize((pixel_h, pixel_w))\n",
    "    \n",
    "\n",
    "ROTATIONS = [90, 180, 270]\n",
    "def random_rotation(image):\n",
    "    \"\"\"\n",
    "    randomly rotates the image while preserving the label\n",
    "    param: image source\n",
    "    return: rotated image (will not be the same as the original)\n",
    "    \"\"\"\n",
    "    return image.rotate(choice(ROTATIONS))\n",
    "\n",
    "def _horizontal_flip(image):\n",
    "    \"\"\"\n",
    "    flips image horizontally\n",
    "    param: image source\n",
    "    return: horizontal flipped image\n",
    "    \"\"\"\n",
    "    return image.transpose(Image.FLIP_LEFT_RIGHT)\n",
    "\n",
    "def _vertical_flip(image):\n",
    "    \"\"\"\n",
    "    flips image vertically\n",
    "    param: image source\n",
    "    return: vertical flipped image\n",
    "    \"\"\"\n",
    "    return image.transpose(Image.FLIP_TOP_BOTTOM)\n",
    "\n",
    "CHOICE = [True, False]\n",
    "def flipper(image):\n",
    "    \"\"\"\n",
    "    randomly flips image\n",
    "    param: image source\n",
    "    return: flipped (or not) image\n",
    "    \"\"\"\n",
    "    flip_h = choice(CHOICE)\n",
    "    print(flip_h)\n",
    "    flip_v = choice(CHOICE)\n",
    "    print(flip_v)\n",
    "    if flip_h:\n",
    "        image = _horizontal_flip(image)\n",
    "    if flip_v:\n",
    "        image = _vertical_flip(image)\n",
    "    return image\n",
    "\n",
    "def cropping(image, left, top, right, bottom):\n",
    "    \"\"\"\n",
    "    crops image\n",
    "    param: image source\n",
    "    return: cropped image\n",
    "    \"\"\"\n",
    "    return image.crop((left, top, right, bottom))"
   ]
  },
  {
   "cell_type": "markdown",
   "metadata": {},
   "source": [
    "### Loading Image"
   ]
  },
  {
   "cell_type": "code",
   "execution_count": 3,
   "metadata": {},
   "outputs": [],
   "source": [
    "src_dir = r\"C:\\Users\\Darryl See\\Desktop\\ConvoNN\\Gender Classification\\Training\"\n",
    "image, labels = [], []\n",
    "LABEL = ['female', 'male']"
   ]
  },
  {
   "cell_type": "code",
   "execution_count": 4,
   "metadata": {},
   "outputs": [],
   "source": [
    "# Load raw images\n",
    "for f in os.listdir(src_dir):\n",
    "    for subf in os.listdir(os.path.join(src_dir + \"\\\\\" + f)):\n",
    "        # Define label\n",
    "        label = LABEL.index(f)\n",
    "        \n",
    "        # Load image\n",
    "        img = Image.open(os.path.join(src_dir + \"\\\\\" + f + \"\\\\\" + subf))\n",
    "        img_rescaled = rescale(img)\n",
    "        \n",
    "        # Convert image to np array\n",
    "        img_array = np.asarray(img_rescaled)\n",
    "        \n",
    "        # Normalize image\n",
    "        img_normalized = img_array/255.0\n",
    "        \n",
    "        # Append to lists\n",
    "        image.append(img_normalized)\n",
    "        labels.append(label)"
   ]
  },
  {
   "cell_type": "markdown",
   "metadata": {},
   "source": [
    "### Save images and labels "
   ]
  },
  {
   "cell_type": "code",
   "execution_count": 5,
   "metadata": {},
   "outputs": [],
   "source": [
    "np.save('images.npy', image)\n",
    "np.save('labels.npy', labels)"
   ]
  }
 ],
 "metadata": {
  "kernelspec": {
   "display_name": "Python 3",
   "language": "python",
   "name": "python3"
  },
  "language_info": {
   "codemirror_mode": {
    "name": "ipython",
    "version": 3
   },
   "file_extension": ".py",
   "mimetype": "text/x-python",
   "name": "python",
   "nbconvert_exporter": "python",
   "pygments_lexer": "ipython3",
   "version": "3.8.3"
  }
 },
 "nbformat": 4,
 "nbformat_minor": 4
}
