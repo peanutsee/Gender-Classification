{
 "cells": [
  {
   "cell_type": "code",
   "execution_count": 1,
   "metadata": {},
   "outputs": [
    {
     "name": "stdout",
     "output_type": "stream",
     "text": [
      "Version:  2.2.0\n",
      "GPU is available\n"
     ]
    }
   ],
   "source": [
    "import pandas as pd\n",
    "import numpy as np\n",
    "import matplotlib.pyplot as plt\n",
    "import seaborn as sns \n",
    "%matplotlib inline\n",
    "\n",
    "from PIL import Image\n",
    "import os\n",
    "\n",
    "import tensorflow as tf\n",
    "from tensorflow.keras import models, layers\n",
    "from sklearn.model_selection import train_test_split\n",
    "print(\"Version: \", tf.__version__) # Check tf version\n",
    "print(\"GPU is\", \"available\" if tf.config.experimental.list_physical_devices(\"GPU\") else \"NOT AVAILABLE\") # Check GPU status\n",
    "physical_devices = tf.config.experimental.list_physical_devices('GPU') # Config GPU\n",
    "tf.config.experimental.set_memory_growth(physical_devices[0], True)"
   ]
  },
  {
   "cell_type": "code",
   "execution_count": 2,
   "metadata": {},
   "outputs": [],
   "source": [
    "def rescale(image, pixel_h = 128, pixel_w = 128):\n",
    "    \"\"\"\n",
    "    rescales images\n",
    "    param: image source\n",
    "    return: rescaled image\n",
    "    \"\"\"\n",
    "    return image.resize((pixel_h, pixel_w))\n",
    "    \n",
    "\n",
    "ROTATIONS = [90, 180, 270]\n",
    "def random_rotation(image):\n",
    "    \"\"\"\n",
    "    randomly rotates the image while preserving the label\n",
    "    param: image source\n",
    "    return: rotated image (will not be the same as the original)\n",
    "    \"\"\"\n",
    "    return image.rotate(choice(ROTATIONS))\n",
    "\n",
    "def _horizontal_flip(image):\n",
    "    \"\"\"\n",
    "    flips image horizontally\n",
    "    param: image source\n",
    "    return: horizontal flipped image\n",
    "    \"\"\"\n",
    "    return image.transpose(Image.FLIP_LEFT_RIGHT)\n",
    "\n",
    "def _vertical_flip(image):\n",
    "    \"\"\"\n",
    "    flips image vertically\n",
    "    param: image source\n",
    "    return: vertical flipped image\n",
    "    \"\"\"\n",
    "    return image.transpose(Image.FLIP_TOP_BOTTOM)\n",
    "\n",
    "CHOICE = [True, False]\n",
    "def flipper(image):\n",
    "    \"\"\"\n",
    "    randomly flips image\n",
    "    param: image source\n",
    "    return: flipped (or not) image\n",
    "    \"\"\"\n",
    "    flip_h = choice(CHOICE)\n",
    "    print(flip_h)\n",
    "    flip_v = choice(CHOICE)\n",
    "    print(flip_v)\n",
    "    if flip_h:\n",
    "        image = _horizontal_flip(image)\n",
    "    if flip_v:\n",
    "        image = _vertical_flip(image)\n",
    "    return image\n",
    "\n",
    "def cropping(image, left, top, right, bottom):\n",
    "    \"\"\"\n",
    "    crops image\n",
    "    param: image source\n",
    "    return: cropped image\n",
    "    \"\"\"\n",
    "    return image.crop((left, top, right, bottom))"
   ]
  },
  {
   "cell_type": "code",
   "execution_count": 3,
   "metadata": {},
   "outputs": [],
   "source": [
    "src_dir = r\"C:\\Users\\Darryl See\\Desktop\\ConvoNN\\Gender Classification\\Validation\"\n",
    "image, labels = [], []\n",
    "LABEL = ['female', 'male']"
   ]
  },
  {
   "cell_type": "code",
   "execution_count": 4,
   "metadata": {},
   "outputs": [],
   "source": [
    "# Load raw images\n",
    "for f in os.listdir(src_dir):\n",
    "    for subf in os.listdir(os.path.join(src_dir + \"\\\\\" + f)):\n",
    "        # Define label\n",
    "        label = LABEL.index(f)\n",
    "        \n",
    "        # Load image\n",
    "        img = Image.open(os.path.join(src_dir + \"\\\\\" + f + \"\\\\\" + subf))\n",
    "        img_rescaled = rescale(img)\n",
    "        \n",
    "        # Convert image to np array\n",
    "        img_array = np.asarray(img_rescaled)\n",
    "        \n",
    "        # Normalize image\n",
    "        img_normalized = img_array/255.0\n",
    "        \n",
    "        # Append to lists\n",
    "        image.append(img_normalized)\n",
    "        labels.append(label)"
   ]
  },
  {
   "cell_type": "code",
   "execution_count": 5,
   "metadata": {},
   "outputs": [
    {
     "name": "stdout",
     "output_type": "stream",
     "text": [
      "Model: \"sequential\"\n",
      "_________________________________________________________________\n",
      "Layer (type)                 Output Shape              Param #   \n",
      "=================================================================\n",
      "conv2d (Conv2D)              (None, 128, 128, 32)      896       \n",
      "_________________________________________________________________\n",
      "max_pooling2d (MaxPooling2D) (None, 64, 64, 32)        0         \n",
      "_________________________________________________________________\n",
      "dropout (Dropout)            (None, 64, 64, 32)        0         \n",
      "_________________________________________________________________\n",
      "conv2d_1 (Conv2D)            (None, 64, 64, 64)        18496     \n",
      "_________________________________________________________________\n",
      "max_pooling2d_1 (MaxPooling2 (None, 32, 32, 64)        0         \n",
      "_________________________________________________________________\n",
      "dropout_1 (Dropout)          (None, 32, 32, 64)        0         \n",
      "_________________________________________________________________\n",
      "flatten (Flatten)            (None, 65536)             0         \n",
      "_________________________________________________________________\n",
      "dense (Dense)                (None, 128)               8388736   \n",
      "_________________________________________________________________\n",
      "dropout_2 (Dropout)          (None, 128)               0         \n",
      "_________________________________________________________________\n",
      "dense_1 (Dense)              (None, 2)                 258       \n",
      "=================================================================\n",
      "Total params: 8,408,386\n",
      "Trainable params: 8,408,386\n",
      "Non-trainable params: 0\n",
      "_________________________________________________________________\n"
     ]
    }
   ],
   "source": [
    "model = models.load_model('model.h5')\n",
    "model.summary()"
   ]
  },
  {
   "cell_type": "code",
   "execution_count": 6,
   "metadata": {},
   "outputs": [],
   "source": [
    "np.save('images_val.npy', image)\n",
    "np.save('labels_val.npy', labels)"
   ]
  },
  {
   "cell_type": "code",
   "execution_count": 7,
   "metadata": {},
   "outputs": [],
   "source": [
    "images = np.load('images_val.npy')\n",
    "labels = np.load('labels_val.npy')"
   ]
  },
  {
   "cell_type": "code",
   "execution_count": 8,
   "metadata": {},
   "outputs": [],
   "source": [
    "images = images.astype('float16')"
   ]
  },
  {
   "cell_type": "code",
   "execution_count": 9,
   "metadata": {},
   "outputs": [
    {
     "data": {
      "text/plain": [
       "(11649, 128, 128, 3)"
      ]
     },
     "execution_count": 9,
     "metadata": {},
     "output_type": "execute_result"
    }
   ],
   "source": [
    "images.shape"
   ]
  },
  {
   "cell_type": "code",
   "execution_count": 10,
   "metadata": {},
   "outputs": [
    {
     "name": "stdout",
     "output_type": "stream",
     "text": [
      "365/365 [==============================] - 3s 8ms/step\n"
     ]
    }
   ],
   "source": [
    "predictions = model.predict(x= images, verbose= 1)"
   ]
  },
  {
   "cell_type": "code",
   "execution_count": 11,
   "metadata": {},
   "outputs": [],
   "source": [
    "predictions = [np.argmax(i) for i in predictions]"
   ]
  },
  {
   "cell_type": "code",
   "execution_count": 23,
   "metadata": {
    "scrolled": false
   },
   "outputs": [
    {
     "name": "stdout",
     "output_type": "stream",
     "text": [
      "test loss: 18.04%\n",
      "test accuracy: 96.11%\n"
     ]
    }
   ],
   "source": [
    "test_loss, test_accuracy = model.evaluate(images, labels, verbose= 0)\n",
    "print(\"test loss:\", format(test_loss, '.2%'))\n",
    "print(\"test accuracy:\", format(test_accuracy, '.2%'))"
   ]
  }
 ],
 "metadata": {
  "kernelspec": {
   "display_name": "Python 3",
   "language": "python",
   "name": "python3"
  },
  "language_info": {
   "codemirror_mode": {
    "name": "ipython",
    "version": 3
   },
   "file_extension": ".py",
   "mimetype": "text/x-python",
   "name": "python",
   "nbconvert_exporter": "python",
   "pygments_lexer": "ipython3",
   "version": "3.8.3"
  }
 },
 "nbformat": 4,
 "nbformat_minor": 4
}
