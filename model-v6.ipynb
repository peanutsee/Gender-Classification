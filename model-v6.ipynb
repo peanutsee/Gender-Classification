{
 "cells": [
  {
   "cell_type": "markdown",
   "metadata": {},
   "source": [
    "### Training with Augmented Data to reduce overfitting"
   ]
  },
  {
   "cell_type": "code",
   "execution_count": 6,
   "metadata": {},
   "outputs": [
    {
     "name": "stdout",
     "output_type": "stream",
     "text": [
      "Version:  2.2.0\n",
      "GPU is available\n"
     ]
    }
   ],
   "source": [
    "import pandas as pd\n",
    "import numpy as np\n",
    "import matplotlib.pyplot as plt\n",
    "import seaborn as sns \n",
    "%matplotlib inline\n",
    "\n",
    "import tensorflow as tf\n",
    "from sklearn.model_selection import train_test_split\n",
    "from tensorflow.keras import models, layers\n",
    "from tensorflow.keras.preprocessing.image import ImageDataGenerator\n",
    "print(\"Version: \", tf.__version__) # Check tf version\n",
    "print(\"GPU is\", \"available\" if tf.config.experimental.list_physical_devices(\"GPU\") else \"NOT AVAILABLE\") # Check GPU status\n",
    "physical_devices = tf.config.experimental.list_physical_devices('GPU') # Config GPU\n",
    "tf.config.experimental.set_memory_growth(physical_devices[0], True)"
   ]
  },
  {
   "cell_type": "code",
   "execution_count": 4,
   "metadata": {},
   "outputs": [
    {
     "name": "stdout",
     "output_type": "stream",
     "text": [
      "Found 47009 images belonging to 2 classes.\n",
      "Found 47009 images belonging to 2 classes.\n"
     ]
    }
   ],
   "source": [
    "# Generate image data\n",
    "normalization = lambda x: x/255.0\n",
    "\n",
    "train_datagen = ImageDataGenerator(rescale=1./255,\n",
    "                             horizontal_flip= True,\n",
    "                             vertical_flip= True,\n",
    "                            rotation_range= 90)\n",
    "\n",
    "PATH = r\"C:\\Users\\Darryl See\\Desktop\\ConvoNN\\Gender Classification\\Training\"\n",
    "train_images = train_datagen.flow_from_directory(PATH, \n",
    "                                           target_size= (128, 128), \n",
    "                                           batch_size= 64, \n",
    "                                           class_mode= 'binary')\n",
    "\n",
    "validation_datagen = ImageDataGenerator(rescale=1./255)\n",
    "PATH2 = r\"C:\\Users\\Darryl See\\Desktop\\ConvoNN\\Gender Classification\\Validation\"\n",
    "validation_images = validation_datagen.flow_from_directory(PATH,\n",
    "                                                target_size= (128, 128),\n",
    "                                                batch_size= 64,\n",
    "                                                class_mode= 'binary')"
   ]
  },
  {
   "cell_type": "code",
   "execution_count": 8,
   "metadata": {
    "scrolled": true
   },
   "outputs": [
    {
     "name": "stdout",
     "output_type": "stream",
     "text": [
      "Model: \"sequential\"\n",
      "_________________________________________________________________\n",
      "Layer (type)                 Output Shape              Param #   \n",
      "=================================================================\n",
      "conv2d (Conv2D)              (None, 128, 128, 32)      896       \n",
      "_________________________________________________________________\n",
      "max_pooling2d (MaxPooling2D) (None, 64, 64, 32)        0         \n",
      "_________________________________________________________________\n",
      "dropout (Dropout)            (None, 64, 64, 32)        0         \n",
      "_________________________________________________________________\n",
      "conv2d_1 (Conv2D)            (None, 64, 64, 64)        18496     \n",
      "_________________________________________________________________\n",
      "max_pooling2d_1 (MaxPooling2 (None, 32, 32, 64)        0         \n",
      "_________________________________________________________________\n",
      "dropout_1 (Dropout)          (None, 32, 32, 64)        0         \n",
      "_________________________________________________________________\n",
      "flatten (Flatten)            (None, 65536)             0         \n",
      "_________________________________________________________________\n",
      "dense (Dense)                (None, 128)               8388736   \n",
      "_________________________________________________________________\n",
      "dropout_2 (Dropout)          (None, 128)               0         \n",
      "_________________________________________________________________\n",
      "dense_1 (Dense)              (None, 2)                 258       \n",
      "=================================================================\n",
      "Total params: 8,408,386\n",
      "Trainable params: 8,408,386\n",
      "Non-trainable params: 0\n",
      "_________________________________________________________________\n"
     ]
    }
   ],
   "source": [
    "model = models.load_model('model.h5')\n",
    "model.summary()"
   ]
  },
  {
   "cell_type": "code",
   "execution_count": 9,
   "metadata": {
    "scrolled": true
   },
   "outputs": [
    {
     "name": "stdout",
     "output_type": "stream",
     "text": [
      "Epoch 1/20\n",
      "200/200 [==============================] - 52s 261ms/step - loss: 0.6619 - accuracy: 0.6634 - val_loss: 0.3788 - val_accuracy: 0.8268\n",
      "Epoch 2/20\n",
      "200/200 [==============================] - 53s 266ms/step - loss: 0.5184 - accuracy: 0.7596 - val_loss: 0.3023 - val_accuracy: 0.8809\n",
      "Epoch 3/20\n",
      "200/200 [==============================] - 49s 246ms/step - loss: 0.4721 - accuracy: 0.7899 - val_loss: 0.2752 - val_accuracy: 0.8889\n",
      "Epoch 4/20\n",
      "200/200 [==============================] - 48s 241ms/step - loss: 0.4454 - accuracy: 0.8094 - val_loss: 0.2456 - val_accuracy: 0.9033\n",
      "Epoch 5/20\n",
      "200/200 [==============================] - 48s 239ms/step - loss: 0.4265 - accuracy: 0.8155 - val_loss: 0.2429 - val_accuracy: 0.9107\n",
      "Epoch 6/20\n",
      "200/200 [==============================] - 47s 236ms/step - loss: 0.4177 - accuracy: 0.8232 - val_loss: 0.2109 - val_accuracy: 0.9271\n",
      "Epoch 7/20\n",
      "200/200 [==============================] - 47s 233ms/step - loss: 0.4023 - accuracy: 0.8271 - val_loss: 0.1952 - val_accuracy: 0.9273\n",
      "Epoch 8/20\n",
      "200/200 [==============================] - 46s 231ms/step - loss: 0.4036 - accuracy: 0.8294 - val_loss: 0.2142 - val_accuracy: 0.9256\n",
      "Epoch 9/20\n",
      "200/200 [==============================] - 46s 229ms/step - loss: 0.3924 - accuracy: 0.8380 - val_loss: 0.2050 - val_accuracy: 0.9279\n",
      "Epoch 10/20\n",
      "200/200 [==============================] - 46s 229ms/step - loss: 0.3803 - accuracy: 0.8391 - val_loss: 0.1986 - val_accuracy: 0.9328\n",
      "Epoch 11/20\n",
      "200/200 [==============================] - 46s 231ms/step - loss: 0.3849 - accuracy: 0.8389 - val_loss: 0.2006 - val_accuracy: 0.9240\n",
      "Epoch 12/20\n",
      "200/200 [==============================] - 46s 229ms/step - loss: 0.3685 - accuracy: 0.8423 - val_loss: 0.1775 - val_accuracy: 0.9412\n",
      "Epoch 13/20\n",
      "200/200 [==============================] - 45s 227ms/step - loss: 0.3629 - accuracy: 0.8498 - val_loss: 0.1939 - val_accuracy: 0.9248\n",
      "Epoch 14/20\n",
      "200/200 [==============================] - 46s 229ms/step - loss: 0.3560 - accuracy: 0.8534 - val_loss: 0.1806 - val_accuracy: 0.9357\n",
      "Epoch 15/20\n",
      "200/200 [==============================] - 45s 227ms/step - loss: 0.3635 - accuracy: 0.8504 - val_loss: 0.1844 - val_accuracy: 0.9361\n",
      "Epoch 16/20\n",
      "200/200 [==============================] - 46s 230ms/step - loss: 0.3461 - accuracy: 0.8564 - val_loss: 0.1910 - val_accuracy: 0.9338\n",
      "Epoch 17/20\n",
      "200/200 [==============================] - 45s 226ms/step - loss: 0.3362 - accuracy: 0.8613 - val_loss: 0.1674 - val_accuracy: 0.9369\n",
      "Epoch 18/20\n",
      "200/200 [==============================] - 46s 229ms/step - loss: 0.3443 - accuracy: 0.8581 - val_loss: 0.1741 - val_accuracy: 0.9393\n",
      "Epoch 19/20\n",
      "200/200 [==============================] - 45s 226ms/step - loss: 0.3352 - accuracy: 0.8601 - val_loss: 0.1621 - val_accuracy: 0.9348\n",
      "Epoch 20/20\n",
      "200/200 [==============================] - 45s 226ms/step - loss: 0.3306 - accuracy: 0.8610 - val_loss: 0.1683 - val_accuracy: 0.9383\n"
     ]
    },
    {
     "data": {
      "text/plain": [
       "<tensorflow.python.keras.callbacks.History at 0x19ae46db400>"
      ]
     },
     "execution_count": 9,
     "metadata": {},
     "output_type": "execute_result"
    }
   ],
   "source": [
    "model.fit(train_images, steps_per_epoch= 200, epochs= 20, validation_data= validation_images, validation_steps= 80)"
   ]
  }
 ],
 "metadata": {
  "kernelspec": {
   "display_name": "Python 3",
   "language": "python",
   "name": "python3"
  },
  "language_info": {
   "codemirror_mode": {
    "name": "ipython",
    "version": 3
   },
   "file_extension": ".py",
   "mimetype": "text/x-python",
   "name": "python",
   "nbconvert_exporter": "python",
   "pygments_lexer": "ipython3",
   "version": "3.8.3"
  }
 },
 "nbformat": 4,
 "nbformat_minor": 4
}
